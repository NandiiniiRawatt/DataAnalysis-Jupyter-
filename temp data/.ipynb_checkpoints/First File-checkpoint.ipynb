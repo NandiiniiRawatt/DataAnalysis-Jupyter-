{
 "cells": [
  {
   "cell_type": "code",
   "execution_count": 1,
   "id": "c41633d5",
   "metadata": {},
   "outputs": [
    {
     "data": {
      "text/plain": [
       "667"
      ]
     },
     "execution_count": 1,
     "metadata": {},
     "output_type": "execute_result"
    }
   ],
   "source": [
    "1+666"
   ]
  },
  {
   "cell_type": "code",
   "execution_count": 2,
   "id": "c8e9c838",
   "metadata": {},
   "outputs": [
    {
     "name": "stdout",
     "output_type": "stream",
     "text": [
      "hiiii!\n"
     ]
    }
   ],
   "source": [
    "print(\"hiiii!\")"
   ]
  },
  {
   "cell_type": "code",
   "execution_count": null,
   "id": "e58ea721",
   "metadata": {},
   "outputs": [],
   "source": []
  }
 ],
 "metadata": {
  "kernelspec": {
   "display_name": "Python 3 (ipykernel)",
   "language": "python",
   "name": "python3"
  },
  "language_info": {
   "codemirror_mode": {
    "name": "ipython",
    "version": 3
   },
   "file_extension": ".py",
   "mimetype": "text/x-python",
   "name": "python",
   "nbconvert_exporter": "python",
   "pygments_lexer": "ipython3",
   "version": "3.11.3"
  }
 },
 "nbformat": 4,
 "nbformat_minor": 5
}
